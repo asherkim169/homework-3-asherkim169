{
 "cells": [
  {
   "cell_type": "markdown",
   "id": "d57d57a8",
   "metadata": {},
   "source": [
    "# Problem 1"
   ]
  },
  {
   "cell_type": "code",
   "execution_count": null,
   "id": "97a313c4",
   "metadata": {},
   "outputs": [],
   "source": [
    "import pandas as pd ## Pandas is our main data cleaning library\n",
    "import numpy as np ## Numpy is our main numerical library\n",
    "import matplotlib as mpl ## Matplotlib is our main plotting library\n",
    "import seaborn as sns\n",
    "\n",
    "## Pandas can read in from a URL\n",
    "kirb21_df = pd.read_csv(\"https://github.com/asherkim169/homework-3-asherkim169/blob/main/kirb21_df.csv\")\n",
    "\n",
    "kirby906a_ax_df = df.loc[(df['rawid'] == \"kirby906a_ax.img\")].copy()\n",
    "telencephalon_L_volume = float(kirby906a_ax_df.loc[kirby906a_ax_df['roi'] == 'Telencephalon_L', 'volume'])\n",
    "telencephalon_R_volume = float(kirby906a_ax_df.loc[kirby906a_ax_df['roi'] == 'Telencephalon_R', 'volume'])\n",
    "ICV_fraction_R = telencephalon_R_volume / float(kirby906a_ax_df.loc[kirby906a_ax_df['roi'] == 'Telencephalon_L', 'ICV'])\n",
    "ICV_fraction_L = telencephalon_L_volume / float(kirby906a_ax_df.loc[kirby906a_ax_df['roi'] == 'Telencephalon_L', 'ICV'])\n",
    "TBV_fraction_R = telencephalon_R_volume / float(kirby906a_ax_df.loc[kirby906a_ax_df['roi'] == 'Telencephalon_R', 'TBV'])\n",
    "TBV_fraction_L = telencephalon_L_volume / float(kirby906a_ax_df.loc[kirby906a_ax_df['roi'] == 'Telencephalon_R', 'TBV'])\n",
    "\n",
    "all_regions_df = (kirby906a_ax_df.groupby(['type', 'level'])[\"volmume\"]).sum().reset_index(name = \"total_volume\")\n",
    "sns.barplot(data = kirby906a_ax_df[(kirby906a_ax_df[\"type\"] == 1) & (kirby906a_ax_df[\"level\"] == 2)], x = \"roi\", y = \"volume\")\n",
    "t1l3 = kirby906a_ax_df[(kirby906a_ax_df[\"type\"] == 1) & (kirby906a_ax_df[\"level\"] == 3)]\n",
    "plt.pie(\n",
    "    t1l3[\"volume\"],\n",
    "    labels=t1l3[\"roi\"],\n",
    "    autopct=\"%1.1f%%\",\n",
    "    startangle=90,\n",
    "    wedgeprops=dict(width=0.4)  # makes it a donut\n",
    ")"
   ]
  },
  {
   "cell_type": "markdown",
   "id": "e35b8bb2",
   "metadata": {},
   "source": [
    "# Problem 2"
   ]
  },
  {
   "cell_type": "code",
   "execution_count": null,
   "id": "968c3b2c",
   "metadata": {},
   "outputs": [],
   "source": [
    "import pandas as pd\n",
    "import seaborn as sns\n",
    "import matplotlib.pyplot as plt\n",
    "\n",
    "class_interests_df = pd.read_csv(\"https://github.com/asherkim169/homework-3-asherkim169/blob/main/classInterests.txt\", sep=\"\\t\")\n",
    "summary = class_interests_df.[['Year', 'Program']].groupby(name='count').size().reset_index(name=\"count\")\n",
    "\n",
    "sns.barplot(data=counts_df, x=\"Year\", y=\"count\", hue=\"Program\")"
   ]
  },
  {
   "cell_type": "markdown",
   "id": "9bf00a39",
   "metadata": {},
   "source": [
    "# Problem 3"
   ]
  },
  {
   "cell_type": "code",
   "execution_count": null,
   "id": "8ca58b05",
   "metadata": {},
   "outputs": [],
   "source": [
    "import pandas as pd\n",
    "\n",
    "df = pd.read_csv(\"https://github.com/asherkim169/homework-3-asherkim169/blob/main/GSE5859_exprs.csv\")\n",
    "gene_expression_df_pt1 = gene_expression_df.sub(gene_expression_df.mean(axis=1), axis=0)\n",
    "gene_expression_df_pt2 = gene_expression_df_pt1.sub(gene_expression_df_pt1.mean(axis=0), axis=1)\n",
    "gene_expression_df_pt3 = gene_expression_df_pt2.div(gene_expression_df_pt2.std(axis=0), axis=1)"
   ]
  },
  {
   "cell_type": "markdown",
   "id": "2f29f2ab",
   "metadata": {},
   "source": [
    "# Problem 4"
   ]
  },
  {
   "cell_type": "code",
   "execution_count": null,
   "id": "e724cc99",
   "metadata": {},
   "outputs": [],
   "source": [
    "import pandas as pd\n",
    "import matplotlib.pyplot as plt\n",
    "\n",
    "healthcare_df = pd.read_csv(\"https://github.com/asherkim169/homework-3-asherkim169/blob/main/healthcare-spending.csv\", skiprows=2)\n",
    "\n",
    "healthcare_melted = healthcare_df.melt(\n",
    "    id_vars=[\"Location\"],\n",
    "    var_name=\"Year\",\n",
    "    value_name=\"Spending\"\n",
    ")\n",
    "\n",
    "healthcare_melted[\"Year\"] = healthcare_melted[\"Year\"].str.extract(r\"(\\d{4})\").astype(int)\n",
    "healthcare_states = healthcare_melted[healthcare_melted[\"Location\"] != \"United States\"]\n",
    "for state, df in healthcare_states.groupby(\"Location\"):\n",
    "    plt.plot(df[\"Year\"], df[\"Spending\"], label=state)\n",
    "\n",
    "plt.xlabel(\"Year\")\n",
    "plt.ylabel(\"Total Health Spending\")\n",
    "\n",
    "avg_spending = healthcare_states.groupby(\"Location\")[\"Spending\"].mean()\n",
    "plt.ylabel(\"Average Total Health Spending\")\n",
    "plt.xlabel(\"State\")"
   ]
  }
 ],
 "metadata": {
  "language_info": {
   "name": "python"
  }
 },
 "nbformat": 4,
 "nbformat_minor": 5
}
